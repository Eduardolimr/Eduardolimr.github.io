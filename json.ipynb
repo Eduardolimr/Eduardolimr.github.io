{
  "nbformat": 4,
  "nbformat_minor": 0,
  "metadata": {
    "colab": {
      "name": "Copy of json.ipynb",
      "version": "0.3.2",
      "provenance": [],
      "include_colab_link": true
    },
    "kernelspec": {
      "name": "python3",
      "display_name": "Python 3"
    }
  },
  "cells": [
    {
      "cell_type": "markdown",
      "metadata": {
        "id": "view-in-github",
        "colab_type": "text"
      },
      "source": [
        "<a href=\"https://colab.research.google.com/github/Eduardolimr/Eduardolimr.github.io/blob/master/json.ipynb\" target=\"_parent\"><img src=\"https://colab.research.google.com/assets/colab-badge.svg\" alt=\"Open In Colab\"/></a>"
      ]
    },
    {
      "cell_type": "code",
      "metadata": {
        "id": "g5Ty4gtLhbgQ",
        "colab_type": "code",
        "outputId": "3b119da9-c1d4-48bb-f7e6-26fc5c8b1e6f",
        "colab": {
          "base_uri": "https://localhost:8080/",
          "height": 187
        }
      },
      "source": [
        "!pip3 install lark-parser"
      ],
      "execution_count": 0,
      "outputs": [
        {
          "output_type": "stream",
          "text": [
            "Collecting lark-parser\n",
            "\u001b[?25l  Downloading https://files.pythonhosted.org/packages/06/6a/1e9853021a122b2bdbe059ce02136c93fda3c10fff4d3c94ac39d16a31ad/lark-parser-0.7.3.tar.gz (274kB)\n",
            "\r\u001b[K     |█▏                              | 10kB 13.6MB/s eta 0:00:01\r\u001b[K     |██▍                             | 20kB 3.2MB/s eta 0:00:01\r\u001b[K     |███▋                            | 30kB 4.7MB/s eta 0:00:01\r\u001b[K     |████▊                           | 40kB 3.0MB/s eta 0:00:01\r\u001b[K     |██████                          | 51kB 3.7MB/s eta 0:00:01\r\u001b[K     |███████▏                        | 61kB 4.4MB/s eta 0:00:01\r\u001b[K     |████████▍                       | 71kB 5.1MB/s eta 0:00:01\r\u001b[K     |█████████▌                      | 81kB 5.7MB/s eta 0:00:01\r\u001b[K     |██████████▊                     | 92kB 6.3MB/s eta 0:00:01\r\u001b[K     |████████████                    | 102kB 5.0MB/s eta 0:00:01\r\u001b[K     |█████████████▏                  | 112kB 5.0MB/s eta 0:00:01\r\u001b[K     |██████████████▎                 | 122kB 5.0MB/s eta 0:00:01\r\u001b[K     |███████████████▌                | 133kB 5.0MB/s eta 0:00:01\r\u001b[K     |████████████████▊               | 143kB 5.0MB/s eta 0:00:01\r\u001b[K     |██████████████████              | 153kB 5.0MB/s eta 0:00:01\r\u001b[K     |███████████████████             | 163kB 5.0MB/s eta 0:00:01\r\u001b[K     |████████████████████▎           | 174kB 5.0MB/s eta 0:00:01\r\u001b[K     |█████████████████████▌          | 184kB 5.0MB/s eta 0:00:01\r\u001b[K     |██████████████████████▊         | 194kB 5.0MB/s eta 0:00:01\r\u001b[K     |███████████████████████▉        | 204kB 5.0MB/s eta 0:00:01\r\u001b[K     |█████████████████████████       | 215kB 5.0MB/s eta 0:00:01\r\u001b[K     |██████████████████████████▎     | 225kB 5.0MB/s eta 0:00:01\r\u001b[K     |███████████████████████████▌    | 235kB 5.0MB/s eta 0:00:01\r\u001b[K     |████████████████████████████▋   | 245kB 5.0MB/s eta 0:00:01\r\u001b[K     |█████████████████████████████▉  | 256kB 5.0MB/s eta 0:00:01\r\u001b[K     |███████████████████████████████ | 266kB 5.0MB/s eta 0:00:01\r\u001b[K     |████████████████████████████████| 276kB 5.0MB/s \n",
            "\u001b[?25hBuilding wheels for collected packages: lark-parser\n",
            "  Building wheel for lark-parser (setup.py) ... \u001b[?25l\u001b[?25hdone\n",
            "  Created wheel for lark-parser: filename=lark_parser-0.7.3-py2.py3-none-any.whl size=61753 sha256=89b8322a679938618ca134b1ceba6a6ea8ca63ce3223e09f992302b885f68514\n",
            "  Stored in directory: /root/.cache/pip/wheels/c5/c8/52/09ec2903aed54f5fed74f1e452eb296e54d34181f7d62c3260\n",
            "Successfully built lark-parser\n",
            "Installing collected packages: lark-parser\n",
            "Successfully installed lark-parser-0.7.3\n"
          ],
          "name": "stdout"
        }
      ]
    },
    {
      "cell_type": "code",
      "metadata": {
        "id": "INR0WA4Gh1sQ",
        "colab_type": "code",
        "colab": {}
      },
      "source": [
        "from lark import Lark\n",
        "\n",
        "json = Lark(r\"\"\"\n",
        "start : array \n",
        "      | object\n",
        "      \n",
        "object: \"{\" _ws \"}\"\n",
        "      | \"{\" members \"}\"\n",
        "\n",
        "array: \"[\" _ws \"]\"\n",
        "     | \"[\" element(\",\" element)* \"]\"\n",
        "     \n",
        "members: member\n",
        "       | member \",\" members\n",
        "     \n",
        "member: _ws\n",
        "      | _ws string _ws \":\" element \n",
        "\n",
        "element : _ws atom _ws\n",
        "\n",
        "_ws : (\" \"\n",
        "   | \"\\n\"\n",
        "   | \"\\t\"\n",
        "   | \"\\r\")*\n",
        "   \n",
        "atom : number\n",
        "     | string\n",
        "     | array\n",
        "     | object\n",
        "     | /true/\n",
        "     | /false/\n",
        "     | /null/\n",
        "      \n",
        "number : /[1-9]+/ | /0/\n",
        "\n",
        "string : /\"[A-Za-z0-9]+\"/\n",
        "\n",
        "\"\"\")"
      ],
      "execution_count": 0,
      "outputs": []
    },
    {
      "cell_type": "code",
      "metadata": {
        "id": "3nJxDVWAiM0s",
        "colab_type": "code",
        "outputId": "c96cac17-33b4-40cd-ffe9-d2d306b0a781",
        "colab": {
          "base_uri": "https://localhost:8080/",
          "height": 221
        }
      },
      "source": [
        "tree = json.parse('[1, 22, 3]')\n",
        "print(tree.pretty())"
      ],
      "execution_count": 0,
      "outputs": [
        {
          "output_type": "stream",
          "text": [
            "start\n",
            "  array\n",
            "    value\n",
            "      atom\n",
            "        number\t1\n",
            "    value\n",
            "      atom\n",
            "        number\t22\n",
            "    value\n",
            "      atom\n",
            "        number\t3\n",
            "\n"
          ],
          "name": "stdout"
        }
      ]
    },
    {
      "cell_type": "code",
      "metadata": {
        "id": "bmpH54DVkgUl",
        "colab_type": "code",
        "colab": {}
      },
      "source": [
        ""
      ],
      "execution_count": 0,
      "outputs": []
    }
  ]
}